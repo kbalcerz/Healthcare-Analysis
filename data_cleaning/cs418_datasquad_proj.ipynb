{
 "cells": [
  {
   "cell_type": "markdown",
   "metadata": {},
   "source": [
    "<h1> HealthCare Analysis Using Medicare Data </h1>\n",
    "<h2> CS 418 - The Data Squad</h2>"
   ]
  },
  {
   "cell_type": "markdown",
   "metadata": {},
   "source": [
    "This notebook will take care of any data cleaning and answer the following questions:\n",
    "<ul>\n",
    "    <li> What data do we have and what data do we need? </li>\n",
    "    <li> How will we collect more data? </li>\n",
    "    <li> How do we organize the data for analysis? </li>\n",
    "</ul>\n",
    "First, Import modules."
   ]
  },
  {
   "cell_type": "code",
   "execution_count": 1,
   "metadata": {},
   "outputs": [],
   "source": [
    "import pandas as pd\n",
    "import numpy as np\n",
    "import seaborn as sns\n",
    "import helper_functions as hf\n",
    "%matplotlib inline\n",
    "import matplotlib.pyplot as plt\n",
    "from datetime import datetime"
   ]
  },
  {
   "cell_type": "markdown",
   "metadata": {},
   "source": [
    "<h3> What data do we have? What do we need? </h3>\n",
    "<br> We will use the following files: <br>\n",
    "<ul>\n",
    "    <li>\n",
    "        <a href=\"https://go.cms.gov/2WyRXft\" > \n",
    "        Medicare_Provider_Charge_Inpatient_DRGALL_FY2016.csv \n",
    "        </a>\n",
    "    </li>\n",
    "    <li> \n",
    "        <a href=\"https://go.cms.gov/2HSD2Ze\">\n",
    "            Medicare_OPPS_CY2016_Provider_APC.xlsx \n",
    "        </a>\n",
    "    </li>\n",
    "    <li> Add more files here... </li>\n",
    "</ul>"
   ]
  },
  {
   "cell_type": "code",
   "execution_count": 2,
   "metadata": {},
   "outputs": [],
   "source": [
    "in_charges_path = \"..\\data_files\\Medicare_Provider_Charge_Inpatient_DRGALL_FY2016.csv\"\n",
    "in_charges_summary_path = \"..\\data_files\\Medicare_Charge_Inpatient_DRGALL_DRG_Summary_Reports_FY2016.xlsx\"\n",
    "out_charges_path = \"..\\data_files\\Medicare_OPPS_CY2016_Provider_APC.xlsx\"\n",
    "out_charges_summary_path = \"..\\data_files\\Medicare_OPPS_CY2016_Summary_APC_HCPCS.xlsx\""
   ]
  },
  {
   "cell_type": "markdown",
   "metadata": {},
   "source": [
    "Here is some information on the first file."
   ]
  },
  {
   "cell_type": "code",
   "execution_count": 3,
   "metadata": {},
   "outputs": [
    {
     "data": {
      "text/html": [
       "<div>\n",
       "<style scoped>\n",
       "    .dataframe tbody tr th:only-of-type {\n",
       "        vertical-align: middle;\n",
       "    }\n",
       "\n",
       "    .dataframe tbody tr th {\n",
       "        vertical-align: top;\n",
       "    }\n",
       "\n",
       "    .dataframe thead th {\n",
       "        text-align: right;\n",
       "    }\n",
       "</style>\n",
       "<table border=\"1\" class=\"dataframe\">\n",
       "  <thead>\n",
       "    <tr style=\"text-align: right;\">\n",
       "      <th></th>\n",
       "      <th>Description</th>\n",
       "    </tr>\n",
       "    <tr>\n",
       "      <th>Short Name</th>\n",
       "      <th></th>\n",
       "    </tr>\n",
       "  </thead>\n",
       "  <tbody>\n",
       "    <tr>\n",
       "      <th>DRG Definition</th>\n",
       "      <td>Classification system that groups similar clinical conditions (diagnoses) and the procedures furnished by the hospital during the stay.</td>\n",
       "    </tr>\n",
       "    <tr>\n",
       "      <th>Provider State</th>\n",
       "      <td>State in which the providers are physically located.</td>\n",
       "    </tr>\n",
       "    <tr>\n",
       "      <th>Total Discharges</th>\n",
       "      <td>The number of discharges billed by all providers for inpatient hospital services.</td>\n",
       "    </tr>\n",
       "    <tr>\n",
       "      <th>Average Covered Charges</th>\n",
       "      <td>The average charge of all provider's services covered by Medicare for discharges in the DRG. These will vary from hospital to hospital because of differences in hospital charge structures.</td>\n",
       "    </tr>\n",
       "    <tr>\n",
       "      <th>Average Total Payments</th>\n",
       "      <td>The average total payments to all providers for the DRG including the MS-DRG amount, teaching,  disproportionate share, capital, and outlier payments for all cases.  Also included in average total  payments are co-payment and deductible amounts that the patient is responsible for and any additional payments by third parties for coordination of benefits.</td>\n",
       "    </tr>\n",
       "    <tr>\n",
       "      <th>Average Medicare Payments</th>\n",
       "      <td>The average amount that Medicare pays to the provider for Medicare's share of the MS-DRG. Medicare payment amounts include the MS-DRG amount, teaching,  disproportionate share, capital, and outlier payments for all cases.  Medicare payments DO NOT include beneficiary co-payments and deductible amounts nor any additional payments from third parties for coordination of benefits.</td>\n",
       "    </tr>\n",
       "  </tbody>\n",
       "</table>\n",
       "</div>"
      ],
      "text/plain": [
       "                                                                                                                                                                                                                                                                                                                                                                                                           Description\n",
       "Short Name                                                                                                                                                                                                                                                                                                                                                                                                            \n",
       "DRG Definition             Classification system that groups similar clinical conditions (diagnoses) and the procedures furnished by the hospital during the stay.                                                                                                                                                                                                                                                    \n",
       "Provider State             State in which the providers are physically located.                                                                                                                                                                                                                                                                                                                                       \n",
       "Total Discharges           The number of discharges billed by all providers for inpatient hospital services.                                                                                                                                                                                                                                                                                                          \n",
       "Average Covered Charges    The average charge of all provider's services covered by Medicare for discharges in the DRG. These will vary from hospital to hospital because of differences in hospital charge structures.                                                                                                                                                                                               \n",
       "Average Total Payments     The average total payments to all providers for the DRG including the MS-DRG amount, teaching,  disproportionate share, capital, and outlier payments for all cases.  Also included in average total  payments are co-payment and deductible amounts that the patient is responsible for and any additional payments by third parties for coordination of benefits.                        \n",
       "Average Medicare Payments  The average amount that Medicare pays to the provider for Medicare's share of the MS-DRG. Medicare payment amounts include the MS-DRG amount, teaching,  disproportionate share, capital, and outlier payments for all cases.  Medicare payments DO NOT include beneficiary co-payments and deductible amounts nor any additional payments from third parties for coordination of benefits."
      ]
     },
     "execution_count": 3,
     "metadata": {},
     "output_type": "execute_result"
    }
   ],
   "source": [
    "# Read the csv file\n",
    "in_charges = pd.read_csv(in_charges_path, skipinitialspace=True, low_memory=False)\n",
    "\n",
    "# Print colums and their meanings\n",
    "# This info comes from the 2nd sheet of the summary file\n",
    "# Starting at row 4, col 2\n",
    "pd.set_option('display.max_colwidth', -1)\n",
    "in_summary_xls = pd.ExcelFile(in_charges_summary_path)\n",
    "in_summary = pd.read_excel(in_summary_xls, \"Data Dictionary\", \n",
    "                           skiprows = 2, index_col = 0)\n",
    "in_summary"
   ]
  },
  {
   "cell_type": "markdown",
   "metadata": {},
   "source": [
    "Each row in the in_charges dataframe represents:\n",
    "<blockquote> The Inpatient Utilization and Payment Public Use File (Inpatient PUF) provides information on inpatient discharges for Medicare fee-for-service beneficiaries. </blockquote>\n",
    "\n",
    "What is Medicare fee for service?\n",
    "<blockquote> Medicare Fee-for-Service (FFS) is a program that provides hospital insurance (Part A) and supplementary medical insurance (Part B) to eligible citizens. In general, Part A (hospital insurance) covers inpatient hospital care, skilled nursing facility, hospice, lab tests, surgery, and home health care. Part B (medical insurance) covers services including physician and other health care providers' services, outpatient care, durable medical equipment, and some preventive services. </blockquote>"
   ]
  },
  {
   "cell_type": "code",
   "execution_count": 4,
   "metadata": {},
   "outputs": [
    {
     "name": "stdout",
     "output_type": "stream",
     "text": [
      "DRG Definition                                object\n",
      "Provider Id                                   int64 \n",
      "Provider Name                                 object\n",
      "Provider Street Address                       object\n",
      "Provider City                                 object\n",
      "Provider State                                object\n",
      "Provider Zip Code                             int64 \n",
      "Hospital Referral Region (HRR) Description    object\n",
      "Total Discharges                              object\n",
      "Average Covered Charges                       object\n",
      "Average Total Payments                        object\n",
      "Average Medicare Payments                     object\n",
      "dtype: object\n"
     ]
    },
    {
     "data": {
      "application/vnd.jupyter.widget-view+json": {
       "model_id": "c4a2ef88ae3a40e4bf7897b3061a92fd",
       "version_major": 2,
       "version_minor": 0
      },
      "text/plain": [
       "interactive(children=(IntSlider(value=0, description='row', max=197283, step=5), IntSlider(value=0, descriptio…"
      ]
     },
     "metadata": {},
     "output_type": "display_data"
    },
    {
     "name": "stdout",
     "output_type": "stream",
     "text": [
      "(197283 rows, 12 columns) total\n"
     ]
    }
   ],
   "source": [
    "print(in_charges.dtypes)\n",
    "hf.df_interact(in_charges)"
   ]
  },
  {
   "cell_type": "markdown",
   "metadata": {},
   "source": [
    "We have to be careful using these columns because they contain null values."
   ]
  },
  {
   "cell_type": "code",
   "execution_count": 5,
   "metadata": {},
   "outputs": [
    {
     "data": {
      "text/plain": [
       "Index([], dtype='object')"
      ]
     },
     "execution_count": 5,
     "metadata": {},
     "output_type": "execute_result"
    }
   ],
   "source": [
    "null_cols = in_charges.isnull().sum()\n",
    "in_charges.columns[null_cols > 0]"
   ]
  },
  {
   "cell_type": "markdown",
   "metadata": {},
   "source": [
    "Now, do the same for the out patient charges"
   ]
  },
  {
   "cell_type": "code",
   "execution_count": 6,
   "metadata": {},
   "outputs": [
    {
     "data": {
      "text/html": [
       "<div>\n",
       "<style scoped>\n",
       "    .dataframe tbody tr th:only-of-type {\n",
       "        vertical-align: middle;\n",
       "    }\n",
       "\n",
       "    .dataframe tbody tr th {\n",
       "        vertical-align: top;\n",
       "    }\n",
       "\n",
       "    .dataframe thead th {\n",
       "        text-align: right;\n",
       "    }\n",
       "</style>\n",
       "<table border=\"1\" class=\"dataframe\">\n",
       "  <thead>\n",
       "    <tr style=\"text-align: right;\">\n",
       "      <th></th>\n",
       "      <th>Description</th>\n",
       "    </tr>\n",
       "    <tr>\n",
       "      <th>Column Name</th>\n",
       "      <th></th>\n",
       "    </tr>\n",
       "  </thead>\n",
       "  <tbody>\n",
       "    <tr>\n",
       "      <th>APC</th>\n",
       "      <td>The comprehensive APC code.  In 2016, CMS renumbered the APC codes.  Therefore, CY 2015 APC codes have different values from the CY 2016 APC codes.  Appendix Table 1 in the Outpatient Hospital PUF methodology report contains a crosswalk between the CY 2015 and CY 2016 APC codes.</td>\n",
       "    </tr>\n",
       "    <tr>\n",
       "      <th>APC Description</th>\n",
       "      <td>The description of the APC Code.</td>\n",
       "    </tr>\n",
       "    <tr>\n",
       "      <th>Primary HCPCS</th>\n",
       "      <td>The HCPCS code for the primary HCPCS that is the basis for setting payment for the APC group.</td>\n",
       "    </tr>\n",
       "    <tr>\n",
       "      <th>Primary HCPCS Description</th>\n",
       "      <td>The HCPCS code description for the primary HCPCS that is the basis for setting payment for the APC group.</td>\n",
       "    </tr>\n",
       "    <tr>\n",
       "      <th>Comprehensive APC Services</th>\n",
       "      <td>The number of primary HCPCS services billed by the provider for outpatient hospital services. For the APC/HCPCS level summary it is a count of all the primary services for a given APC-primary HCPCS combination.</td>\n",
       "    </tr>\n",
       "    <tr>\n",
       "      <th>Average Estimated Total Submitted Charges</th>\n",
       "      <td>The provider's average estimated submitted charge for services covered by Medicare for the APC-primary HCPCS combination. These will vary from hospital to hospital because of differences in hospital charge structures.</td>\n",
       "    </tr>\n",
       "    <tr>\n",
       "      <th>Average Medicare Allowed Amount</th>\n",
       "      <td>The average of total regular payments the provider receives for the APC-primary HCPCS. It includes both Medicare regular provider payments as well as beneficiaries’ co-payment and deductible payments. It excludes special outlier payments which are reported in a separate column. The APC allowed amounts do not vary by primary HCPCS.  However, slight variations will occur based on geographic adjustments based on where the services are delivered.</td>\n",
       "    </tr>\n",
       "    <tr>\n",
       "      <th>Average Medicare Payment Amount</th>\n",
       "      <td>The average of total Medicare regular payments the provider receives directly from Medicare. It excludes special outlier payments which are reported in a separate column. The APC payments do not vary by primary HCPCS.  However, slight variations will occur based on geographic adjustments based on where the services are delivered.</td>\n",
       "    </tr>\n",
       "    <tr>\n",
       "      <th>Outlier Comprehensive APC Services</th>\n",
       "      <td>The number of comprehensive APC services with outlier payments. This variable is blank in cases where the number of outlier services is fewer than 11.</td>\n",
       "    </tr>\n",
       "    <tr>\n",
       "      <th>Average Medicare Outlier Amount</th>\n",
       "      <td>The average of Medicare outlier provider payments among comprehensive APC services with outlier payments. OPPS APC payment amounts are based on the average costs for a set of services. In the event that hospitals' costs for these services exceed a given threshold tied to the average APC payment, CMS must issue an outlier payment to hospitals to compensate them for the additional costs. This variable is blank in cases where the number of outlier services is fewer than 11.</td>\n",
       "    </tr>\n",
       "  </tbody>\n",
       "</table>\n",
       "</div>"
      ],
      "text/plain": [
       "                                                                                                                                                                                                                                                                                                                                                                                                                                                                                                                           Description\n",
       "Column Name                                                                                                                                                                                                                                                                                                                                                                                                                                                                                                                           \n",
       "APC                                        The comprehensive APC code.  In 2016, CMS renumbered the APC codes.  Therefore, CY 2015 APC codes have different values from the CY 2016 APC codes.  Appendix Table 1 in the Outpatient Hospital PUF methodology report contains a crosswalk between the CY 2015 and CY 2016 APC codes.                                                                                                                                                                                                    \n",
       "APC Description                            The description of the APC Code.                                                                                                                                                                                                                                                                                                                                                                                                                                                           \n",
       "Primary HCPCS                              The HCPCS code for the primary HCPCS that is the basis for setting payment for the APC group.                                                                                                                                                                                                                                                                                                                                                                                              \n",
       "Primary HCPCS Description                  The HCPCS code description for the primary HCPCS that is the basis for setting payment for the APC group.                                                                                                                                                                                                                                                                                                                                                                                  \n",
       "Comprehensive APC Services                 The number of primary HCPCS services billed by the provider for outpatient hospital services. For the APC/HCPCS level summary it is a count of all the primary services for a given APC-primary HCPCS combination.                                                                                                                                                                                                                                                                         \n",
       "Average Estimated Total Submitted Charges  The provider's average estimated submitted charge for services covered by Medicare for the APC-primary HCPCS combination. These will vary from hospital to hospital because of differences in hospital charge structures.                                                                                                                                                                                                                                                                  \n",
       "Average Medicare Allowed Amount            The average of total regular payments the provider receives for the APC-primary HCPCS. It includes both Medicare regular provider payments as well as beneficiaries’ co-payment and deductible payments. It excludes special outlier payments which are reported in a separate column. The APC allowed amounts do not vary by primary HCPCS.  However, slight variations will occur based on geographic adjustments based on where the services are delivered.                             \n",
       "Average Medicare Payment Amount            The average of total Medicare regular payments the provider receives directly from Medicare. It excludes special outlier payments which are reported in a separate column. The APC payments do not vary by primary HCPCS.  However, slight variations will occur based on geographic adjustments based on where the services are delivered.                                                                                                                                                \n",
       "Outlier Comprehensive APC Services         The number of comprehensive APC services with outlier payments. This variable is blank in cases where the number of outlier services is fewer than 11.                                                                                                                                                                                                                                                                                                                                     \n",
       "Average Medicare Outlier Amount            The average of Medicare outlier provider payments among comprehensive APC services with outlier payments. OPPS APC payment amounts are based on the average costs for a set of services. In the event that hospitals' costs for these services exceed a given threshold tied to the average APC payment, CMS must issue an outlier payment to hospitals to compensate them for the additional costs. This variable is blank in cases where the number of outlier services is fewer than 11."
      ]
     },
     "execution_count": 6,
     "metadata": {},
     "output_type": "execute_result"
    }
   ],
   "source": [
    "# Read the csv file and call the interact function to \n",
    "# get a glimpse of the data, skip 5 header rows\n",
    "out_charges = pd.read_excel(out_charges_path, skipinitialspace=True, skiprows = 5)\n",
    "\n",
    "# Print colums and their meanings\n",
    "# This info comes from the 2nd sheet of the summary file\n",
    "# Starting at row 4, col 2\n",
    "out_summary_xls = pd.ExcelFile(out_charges_summary_path)\n",
    "out_summary = pd.read_excel(out_summary_xls, \"Data Dictionary\", \n",
    "                           skiprows = 3, usecols='B:C', index_col = 0,\n",
    "                           skipfooter = 2)\n",
    "out_summary"
   ]
  },
  {
   "cell_type": "markdown",
   "metadata": {},
   "source": [
    "Here is the data:\n",
    "<blockquote> The Outpatient Hospital Utilization and Payment Public Use File (Outpatient Hospital PUF) presents information on comprehensive APC (C-APC) services provided to Medicare fee-for-service beneficiaries. </blockquote>\n",
    "\n",
    "<b> APCs </b> or Ambulatory Payment Classifications are the United States government's method of paying for facility outpatient services for the Medicare (United States) program. APC payments are made to hospitals when the Medicare outpatient is discharged from the Emergency Department or clinic or is transferred to another hospital (or other facility) which is not affiliated with the initial hospital where the patient received outpatient services."
   ]
  },
  {
   "cell_type": "code",
   "execution_count": 8,
   "metadata": {},
   "outputs": [
    {
     "name": "stdout",
     "output_type": "stream",
     "text": [
      "Provider ID                                      int64  \n",
      "Provider Name                                    object \n",
      "Provider Street Address                          object \n",
      "Provider City                                    object \n",
      "Provider\\nState                                  object \n",
      "Provider\\nZip Code                               int64  \n",
      "Provider\\nHospital Referral Region\\n(HRR)        object \n",
      "APC                                              int64  \n",
      "APC\\nDescription                                 object \n",
      "Comprehensive APC\\nServices                      int64  \n",
      "Average\\nEstimated\\nTotal\\nSubmitted\\nCharges    float64\n",
      "Average\\nMedicare\\nAllowed\\nAmount               float64\n",
      "Average\\nMedicare\\nPayment\\nAmount               float64\n",
      "Outlier\\nComprehensive\\nAPC\\nServices            float64\n",
      "Average\\nMedicare\\nOutlier\\nAmount               float64\n",
      "dtype: object\n"
     ]
    },
    {
     "data": {
      "application/vnd.jupyter.widget-view+json": {
       "model_id": "9bec26f30bcc413f88fd04b36baaf3ab",
       "version_major": 2,
       "version_minor": 0
      },
      "text/plain": [
       "interactive(children=(IntSlider(value=0, description='row', max=27652, step=5), IntSlider(value=0, description…"
      ]
     },
     "metadata": {},
     "output_type": "display_data"
    },
    {
     "name": "stdout",
     "output_type": "stream",
     "text": [
      "(27652 rows, 15 columns) total\n"
     ]
    }
   ],
   "source": [
    "print(out_charges.dtypes)\n",
    "hf.df_interact(out_charges)"
   ]
  },
  {
   "cell_type": "code",
   "execution_count": 54,
   "metadata": {},
   "outputs": [
    {
     "data": {
      "text/plain": [
       "Index(['Outlier\\nComprehensive\\nAPC\\nServices', 'Average\\nMedicare\\nOutlier\\nAmount'], dtype='object')"
      ]
     },
     "execution_count": 54,
     "metadata": {},
     "output_type": "execute_result"
    }
   ],
   "source": [
    "# We have to be careful using these columns because they\n",
    "# contain null values\n",
    "null_cols = out_charges.isnull().sum()\n",
    "out_charges.columns[null_cols > 0]"
   ]
  },
  {
   "cell_type": "markdown",
   "metadata": {},
   "source": [
    "<b> Granularity <b>"
   ]
  },
  {
   "cell_type": "markdown",
   "metadata": {},
   "source": [
    "Inpatient Charges\n",
    "<br> <b> Summary Reports: </b> We present discharges, average total covered charges, average total payments and average Medicare payments by DRG, both nationally and by state.  Any aggregated records  which are derived from 10 or fewer discharges are excluded to protect the privacy of Medicare beneficiaries. </br>"
   ]
  },
  {
   "cell_type": "code",
   "execution_count": 40,
   "metadata": {},
   "outputs": [
    {
     "data": {
      "text/html": [
       "<div>\n",
       "<style scoped>\n",
       "    .dataframe tbody tr th:only-of-type {\n",
       "        vertical-align: middle;\n",
       "    }\n",
       "\n",
       "    .dataframe tbody tr th {\n",
       "        vertical-align: top;\n",
       "    }\n",
       "\n",
       "    .dataframe thead th {\n",
       "        text-align: right;\n",
       "    }\n",
       "</style>\n",
       "<table border=\"1\" class=\"dataframe\">\n",
       "  <thead>\n",
       "    <tr style=\"text-align: right;\">\n",
       "      <th></th>\n",
       "      <th>Provider State</th>\n",
       "      <th>Hospital Referral Region (HRR) Description</th>\n",
       "    </tr>\n",
       "  </thead>\n",
       "  <tbody>\n",
       "    <tr>\n",
       "      <th>223</th>\n",
       "      <td>ID</td>\n",
       "      <td>WA - Spokane</td>\n",
       "    </tr>\n",
       "    <tr>\n",
       "      <th>255</th>\n",
       "      <td>KS</td>\n",
       "      <td>MO - Kansas City</td>\n",
       "    </tr>\n",
       "    <tr>\n",
       "      <th>325</th>\n",
       "      <td>MS</td>\n",
       "      <td>TN - Memphis</td>\n",
       "    </tr>\n",
       "    <tr>\n",
       "      <th>364</th>\n",
       "      <td>NJ</td>\n",
       "      <td>PA - Philadelphia</td>\n",
       "    </tr>\n",
       "    <tr>\n",
       "      <th>657</th>\n",
       "      <td>GA</td>\n",
       "      <td>FL - Jacksonville</td>\n",
       "    </tr>\n",
       "  </tbody>\n",
       "</table>\n",
       "</div>"
      ],
      "text/plain": [
       "    Provider State Hospital Referral Region (HRR) Description\n",
       "223  ID             WA - Spokane                             \n",
       "255  KS             MO - Kansas City                         \n",
       "325  MS             TN - Memphis                             \n",
       "364  NJ             PA - Philadelphia                        \n",
       "657  GA             FL - Jacksonville                        "
      ]
     },
     "execution_count": 40,
     "metadata": {},
     "output_type": "execute_result"
    }
   ],
   "source": [
    "\"\"\"\n",
    "Hospital Referral Region (HRR) Description seems to have\n",
    "unnecessary state abbreviation.\n",
    "We need to double check state abbreviation matches, so we\n",
    "can get rid of everything before hyphen.\n",
    "\"\"\"\n",
    "\n",
    "HRR_states = in_charges['Hospital Referral Region (HRR) Description'].astype(str).str[0:2]\n",
    "rows = in_charges[in_charges['Provider State'] != HRR_states]\n",
    "rows[['Provider State', 'Hospital Referral Region (HRR) Description']].head()"
   ]
  },
  {
   "cell_type": "markdown",
   "metadata": {},
   "source": [
    "Outpatient Charges\n",
    "<br> <b> Summary Metrics: </b> CMS presents the number of APC services, hospitals' average total estimated submitted charges, the average Medicare allowed charges (which includes Medicare regular provider payments and beneficiary cost-sharing payments), the average Medicare regular provider payments, the number of APC services with outlier payments, and the average Medicare outlier provider payments among those services. Any aggregated records which are derived from fewer than 11 APC primary HCPCS services are excluded to protect the privacy of Medicare beneficiaries.</br>"
   ]
  },
  {
   "cell_type": "code",
   "execution_count": 38,
   "metadata": {},
   "outputs": [
    {
     "data": {
      "text/html": [
       "<div>\n",
       "<style scoped>\n",
       "    .dataframe tbody tr th:only-of-type {\n",
       "        vertical-align: middle;\n",
       "    }\n",
       "\n",
       "    .dataframe tbody tr th {\n",
       "        vertical-align: top;\n",
       "    }\n",
       "\n",
       "    .dataframe thead th {\n",
       "        text-align: right;\n",
       "    }\n",
       "</style>\n",
       "<table border=\"1\" class=\"dataframe\">\n",
       "  <thead>\n",
       "    <tr style=\"text-align: right;\">\n",
       "      <th></th>\n",
       "      <th>Provider\n",
       "State</th>\n",
       "      <th>Provider\n",
       "Hospital Referral Region\n",
       "(HRR)</th>\n",
       "    </tr>\n",
       "  </thead>\n",
       "  <tbody>\n",
       "    <tr>\n",
       "      <th>91</th>\n",
       "      <td>AL</td>\n",
       "      <td>GA - Rome</td>\n",
       "    </tr>\n",
       "    <tr>\n",
       "      <th>92</th>\n",
       "      <td>AL</td>\n",
       "      <td>GA - Rome</td>\n",
       "    </tr>\n",
       "    <tr>\n",
       "      <th>93</th>\n",
       "      <td>AL</td>\n",
       "      <td>GA - Rome</td>\n",
       "    </tr>\n",
       "    <tr>\n",
       "      <th>178</th>\n",
       "      <td>AL</td>\n",
       "      <td>FL - Pensacola</td>\n",
       "    </tr>\n",
       "    <tr>\n",
       "      <th>179</th>\n",
       "      <td>AL</td>\n",
       "      <td>FL - Pensacola</td>\n",
       "    </tr>\n",
       "  </tbody>\n",
       "</table>\n",
       "</div>"
      ],
      "text/plain": [
       "    Provider\\nState Provider\\nHospital Referral Region\\n(HRR)\n",
       "91   AL              GA - Rome                               \n",
       "92   AL              GA - Rome                               \n",
       "93   AL              GA - Rome                               \n",
       "178  AL              FL - Pensacola                          \n",
       "179  AL              FL - Pensacola                          "
      ]
     },
     "execution_count": 38,
     "metadata": {},
     "output_type": "execute_result"
    }
   ],
   "source": [
    "\"\"\"\n",
    "Similarly Provide Hospital Referral Region (HRR)\n",
    "\"\"\"\n",
    "\n",
    "HRR_states = out_charges['Provider\\nHospital Referral Region\\n(HRR)'].astype(str).str[0:2]\n",
    "rows = out_charges[out_charges['Provider\\nState'] != HRR_states]\n",
    "rows[['Provider\\nState','Provider\\nHospital Referral Region\\n(HRR)']].head()\n"
   ]
  },
  {
   "cell_type": "markdown",
   "metadata": {},
   "source": [
    "<b> Scope <b>"
   ]
  },
  {
   "cell_type": "markdown",
   "metadata": {},
   "source": [
    "Inpatient Charges\n",
    "<br> Study Population: Medicare Inpatient Prospective Payment System (IPPS) providers within the 50 United States and District of Columbia with a known Hospital Referral Region (HRR) who are billing Medicare fee-for-service. </br>\n",
    "\n",
    "<br> <b> Limitations of Maryland Data: </b> The state of Maryland has a unique waiver that exempts it from Medicare’s prospective payment systems for inpatient care.  Maryland instead uses an all-payer rate setting commission to determine its payment rates.  Medicare claims for hospitals in other states break out additional payments for indirect medical education (IME) costs and disproportionate share hospital (DSH) adjustments. </br>\n",
    "\n",
    "Outpatient Charges\n",
    "<br> Study Population: Medicare Outpatient Prospective Payment System (OPPS) providers within 49 of the 50 United States and District of Columbia  (excluding Maryland) with a known Hospital Referral Region (HRR) who are billing Medicare fee-for-service beneficiaries for the comprehensive APCs (C-APC).   </br>"
   ]
  },
  {
   "cell_type": "markdown",
   "metadata": {},
   "source": [
    "<b> Temporality <b>"
   ]
  },
  {
   "attachments": {},
   "cell_type": "markdown",
   "metadata": {},
   "source": [
    "Inpatient Charges\n",
    "<br> Years: Fiscal Year 2016 </br>\n",
    "\n",
    "Outpatient Charges\n",
    "<br> Years: Calendar Year 2016 </br>"
   ]
  },
  {
   "cell_type": "markdown",
   "metadata": {},
   "source": [
    "<b> Faithfulness <b>"
   ]
  },
  {
   "cell_type": "markdown",
   "metadata": {},
   "source": [
    "// TODO: We describe a dataset as \"faithful\" if we believe it accurately captures reality. Typically, untrustworthy datasets contain:"
   ]
  },
  {
   "cell_type": "markdown",
   "metadata": {},
   "source": [
    "<h3> How will we collect more data? </h3>\n"
   ]
  },
  {
   "cell_type": "markdown",
   "metadata": {},
   "source": [
    "<h3> How do we organize the data for analysis? <3>"
   ]
  },
  {
   "cell_type": "markdown",
   "metadata": {},
   "source": [
    "For the in patient charges, we have to convert the following columns to ints:\n",
    "<ul>\n",
    "    <li> Total Discharges                              object </li>\n",
    "    <li> Average Covered Charges                       object </li>\n",
    "    <li> Average Total Payments                        object </li>\n",
    "    <li> Average Medicare Payments                     object </li>\n",
    "   \n",
    "</ul>\n",
    "As well as removing everything before the hyphen in the following columns:\n",
    "<ul>\n",
    "    <li> DRG Definition                                object </li>\n",
    "</ul>"
   ]
  },
  {
   "cell_type": "markdown",
   "metadata": {},
   "source": [
    "For the out patient charges, we have to change the names for the following columns:\n",
    "<ul>\n",
    "    <li> Provider\\nState                                  object </li>\n",
    "    <li> Provider\\nZip Code                               int64 </li>\n",
    "    <li> Provider\\nHospital Referral Region\\n(HRR)        object </li>\n",
    "    <li> APC\\nDescription                                 object </li>\n",
    "    <li> Comprehensive APC\\nServices                      int64  </li>\n",
    "    <li> Average\\nEstimated\\nTotal\\nSubmitted\\nCharges    float64 </li>\n",
    "    <li> Average\\nMedicare\\nAllowed\\nAmount               float64 </li>\n",
    "    <li> Average\\nMedicare\\nPayment\\nAmount               float64 </li>\n",
    "    <li> Outlier\\nComprehensive\\nAPC\\nServices            float64 </li>\n",
    "    <li> Average\\nMedicare\\nOutlier\\nAmount               float64 </li>\n",
    "   \n",
    "</ul>"
   ]
  },
  {
   "cell_type": "code",
   "execution_count": null,
   "metadata": {},
   "outputs": [],
   "source": []
  }
 ],
 "metadata": {
  "kernelspec": {
   "display_name": "Python 3",
   "language": "python",
   "name": "python3"
  },
  "language_info": {
   "codemirror_mode": {
    "name": "ipython",
    "version": 3
   },
   "file_extension": ".py",
   "mimetype": "text/x-python",
   "name": "python",
   "nbconvert_exporter": "python",
   "pygments_lexer": "ipython3",
   "version": "3.7.1"
  }
 },
 "nbformat": 4,
 "nbformat_minor": 2
}
